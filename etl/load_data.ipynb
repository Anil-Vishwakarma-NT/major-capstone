{
 "cells": [
  {
   "cell_type": "code",
   "execution_count": 1,
   "metadata": {},
   "outputs": [],
   "source": [
    "import sys\n",
    "import os\n",
    "sys.path.append(os.path.abspath('..'))"
   ]
  },
  {
   "cell_type": "code",
   "execution_count": 2,
   "metadata": {},
   "outputs": [],
   "source": [
    "from utils.read import read_csv_files\n",
    "import logging"
   ]
  },
  {
   "cell_type": "code",
   "execution_count": 3,
   "metadata": {},
   "outputs": [],
   "source": [
    "# Define the path variable\n",
    "RAW_DATA_PATH = \"/spark-data/capstone_crm/data/raw_data/\""
   ]
  },
  {
   "cell_type": "code",
   "execution_count": 4,
   "metadata": {},
   "outputs": [],
   "source": [
    "# Extract data from raw data folder\n",
    "def load_data(data_files):\n",
    "    data_dictionary = {}\n",
    "    for data_file in data_files:\n",
    "        try: \n",
    "            # Read raw data\n",
    "            data_dictionary[f\"{data_file}\"] = read_csv_files(f\"{RAW_DATA_PATH}{data_file}.csv\")\n",
    "            logging.info(f\"{data_file} data loaded successfully.\")\n",
    "        except Exception as e:\n",
    "            logging.error(f\"Error loading data for {data_file}: {e}\", exc_info=True)\n",
    "    \n",
    "    return data_dictionary "
   ]
  },
  {
   "cell_type": "code",
   "execution_count": 5,
   "metadata": {},
   "outputs": [],
   "source": [
    "# Used to print schemas\n",
    "def print_schema(data_dictionary):\n",
    "    try:\n",
    "        logging.info(\"Printing schemas for all dataframes\")\n",
    "        for dataframe in data_dictionary.values():\n",
    "            dataframe.printSchema()\n",
    "    except Exception as e:\n",
    "        logging.error(\"Error printing schemas\", exc_info=True)"
   ]
  },
  {
   "cell_type": "code",
   "execution_count": 8,
   "metadata": {},
   "outputs": [],
   "source": [
    "# Show data\n",
    "def show_data(data_dictionary):\n",
    "    try:\n",
    "        for name, dataframe in data_dictionary.items():\n",
    "            dataframe.show(5)\n",
    "    except Exception as e:\n",
    "        logging.error(f\"Error showing data: {e}\", exc_info=True)\n",
    "        raise"
   ]
  }
 ],
 "metadata": {
  "kernelspec": {
   "display_name": "Python 3",
   "language": "python",
   "name": "python3"
  },
  "language_info": {
   "codemirror_mode": {
    "name": "ipython",
    "version": 3
   },
   "file_extension": ".py",
   "mimetype": "text/x-python",
   "name": "python",
   "nbconvert_exporter": "python",
   "pygments_lexer": "ipython3",
   "version": "3.11.9"
  }
 },
 "nbformat": 4,
 "nbformat_minor": 2
}
