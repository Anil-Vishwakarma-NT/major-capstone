{
 "cells": [
  {
   "cell_type": "code",
   "execution_count": 1,
   "metadata": {},
   "outputs": [],
   "source": [
    "import os\n",
    "import sys\n",
    "sys.path.append(os.path.abspath('..'))\n",
    "import pandas as pd\n",
    "import matplotlib.pyplot as plt\n",
    "from pyspark.sql.functions import col, when, sum, round, month, year, first\n",
    "import logging"
   ]
  },
  {
   "cell_type": "code",
   "execution_count": 2,
   "metadata": {},
   "outputs": [],
   "source": [
    "from utils.read import read_csv_files"
   ]
  },
  {
   "cell_type": "code",
   "execution_count": 3,
   "metadata": {},
   "outputs": [],
   "source": [
    "# Define the path variable\n",
    "CLEANED_DATA_PATH = \"/spark-data/capstone_crm/data/cleaned/\""
   ]
  },
  {
   "cell_type": "markdown",
   "metadata": {
    "notebookRunGroups": {
     "groupValue": "1"
    }
   },
   "source": [
    "# Sales Team Performance Assessment Analysis"
   ]
  },
  {
   "cell_type": "code",
   "execution_count": 4,
   "metadata": {},
   "outputs": [
    {
     "name": "stderr",
     "output_type": "stream",
     "text": [
      "Setting default log level to \"WARN\".\n",
      "To adjust logging level use sc.setLogLevel(newLevel). For SparkR, use setLogLevel(newLevel).\n",
      "24/09/07 13:44:48 WARN NativeCodeLoader: Unable to load native-hadoop library for your platform... using builtin-java classes where applicable\n",
      "24/09/07 13:44:49 WARN Utils: Service 'SparkUI' could not bind on port 4040. Attempting port 4041.\n",
      "24/09/07 13:44:49 WARN Utils: Service 'SparkUI' could not bind on port 4041. Attempting port 4042.\n"
     ]
    }
   ],
   "source": [
    "try:  \n",
    "    logging.info(\"loading csv files\")\n",
    "    # read customers data\n",
    "    sales_team_df = read_csv_files(f\"{CLEANED_DATA_PATH}sales_team.csv\")\n",
    "    # read transactions data\n",
    "    transactions_df = read_csv_files(f\"{CLEANED_DATA_PATH}transactions.csv\")\n",
    "    # read products data\n",
    "    products_df = read_csv_files(f\"{CLEANED_DATA_PATH}products.csv\")\n",
    "except Exception as e:\n",
    "    logging.error(\"invalid operation performed :{e}\", exc_info=True)     "
   ]
  },
  {
   "cell_type": "code",
   "execution_count": 5,
   "metadata": {},
   "outputs": [],
   "source": [
    "try:    \n",
    "    # Calculate percentage of target achieved (calculate top performer and under performer )\n",
    "    sales_team_df = sales_team_df.withColumn(\n",
    "        \"Target_Achieved_Percentage\",\n",
    "        round((col(\"Sales_Achieved\") / col(\"Sales_Target\")) * 100, 2))\n",
    "\n",
    "    # Categorize performance\n",
    "    sales_team_df = sales_team_df.withColumn(\n",
    "        \"Performance_Category\",\n",
    "        when(col(\"Target_Achieved_Percentage\") >= 100, \"Top Performer\")\n",
    "        .when(col(\"Target_Achieved_Percentage\") >= 80, \"Average Performer\")\n",
    "        .otherwise(\"Under Performer\")\n",
    "    )\n",
    "\n",
    "except Exception as e:\n",
    "    logging.error(\"invalid operation performed :{e}\", exc_info=True)"
   ]
  },
  {
   "cell_type": "markdown",
   "metadata": {},
   "source": [
    "### Analyze top performer "
   ]
  },
  {
   "cell_type": "code",
   "execution_count": 6,
   "metadata": {},
   "outputs": [
    {
     "name": "stderr",
     "output_type": "stream",
     "text": [
      "                                                                                \r"
     ]
    },
    {
     "name": "stdout",
     "output_type": "stream",
     "text": [
      "+--------------------+--------------------------+--------------------+\n",
      "|                Name|Target_Achieved_Percentage|Performance_Category|\n",
      "+--------------------+--------------------------+--------------------+\n",
      "|       Angela Miller|                    255.61|       Top Performer|\n",
      "|Dr. Wayne Spencer...|                    241.47|       Top Performer|\n",
      "|          John Terry|                     211.0|       Top Performer|\n",
      "|        Melissa Ruiz|                    204.62|       Top Performer|\n",
      "|    Brian Wallace Md|                    192.62|       Top Performer|\n",
      "|  Edward Delacruz Ii|                    190.76|       Top Performer|\n",
      "|     Samantha Watson|                     183.9|       Top Performer|\n",
      "|         Andrew Rice|                    175.15|       Top Performer|\n",
      "|        Kelly Ibarra|                    174.66|       Top Performer|\n",
      "|    Cameron Peterson|                    154.29|       Top Performer|\n",
      "+--------------------+--------------------------+--------------------+\n",
      "\n"
     ]
    }
   ],
   "source": [
    "try:\n",
    "    logging.info(\"Top 10 Performer in Sales Team\")   \n",
    "    #Calculate top performer \n",
    "    top_performer_sales_team_df = sales_team_df.orderBy(col(\"Target_Achieved_Percentage\").desc())\n",
    "    top_performer_sales_team_df = top_performer_sales_team_df.select(\"Name\",\"Target_Achieved_Percentage\",\"Performance_Category\").limit(10)\n",
    "    top_performer_sales_team_df.show()\n",
    "except Exception as e:\n",
    "    logging.error(\"invalid operation performed :{e}\", exc_info=True)    "
   ]
  },
  {
   "cell_type": "markdown",
   "metadata": {},
   "source": [
    "#### Analyze under performer"
   ]
  },
  {
   "cell_type": "code",
   "execution_count": 7,
   "metadata": {},
   "outputs": [
    {
     "name": "stdout",
     "output_type": "stream",
     "text": [
      "+-----------------+--------------------------+--------------------+\n",
      "|             Name|Target_Achieved_Percentage|Performance_Category|\n",
      "+-----------------+--------------------------+--------------------+\n",
      "|     David Miller|                     15.97|     Under Performer|\n",
      "|       Erin Ramos|                     26.74|     Under Performer|\n",
      "| Jasmine Cross Md|                     27.46|     Under Performer|\n",
      "|  James Nicholson|                     28.92|     Under Performer|\n",
      "|Pamela Pennington|                     30.13|     Under Performer|\n",
      "|  Brittany Taylor|                     34.12|     Under Performer|\n",
      "|      William Lee|                     35.98|     Under Performer|\n",
      "|    Heather Henry|                      37.4|     Under Performer|\n",
      "|     Teresa Evans|                     39.74|     Under Performer|\n",
      "|    Jasmine Davis|                     48.96|     Under Performer|\n",
      "+-----------------+--------------------------+--------------------+\n",
      "\n"
     ]
    }
   ],
   "source": [
    "try:\n",
    "    logging.info(\"Under Performer in Sales Team\")   \n",
    "    # calculate under performer\n",
    "    least_performer_sales_team_df = sales_team_df.orderBy(col(\"Target_Achieved_Percentage\"))\n",
    "    least_performer_sales_team_df = least_performer_sales_team_df.select(\"Name\",\"Target_Achieved_Percentage\",\"Performance_Category\") \\\n",
    "                                .orderBy(col(\"Target_Achieved_Percentage\")).limit(10)\n",
    "    least_performer_sales_team_df.show()\n",
    "except Exception as e:\n",
    "    logging.error(\"invalid operation performed :{e}\", exc_info=True)    "
   ]
  },
  {
   "cell_type": "markdown",
   "metadata": {},
   "source": [
    "#### Top Region On Sales Achieved"
   ]
  },
  {
   "cell_type": "code",
   "execution_count": 8,
   "metadata": {},
   "outputs": [
    {
     "name": "stdout",
     "output_type": "stream",
     "text": [
      "+-------------+--------------------+------------+\n",
      "|       Region|Total_Sales_Achieved|Sales_Target|\n",
      "+-------------+--------------------+------------+\n",
      "|         Utah|            112756.0|     18095.0|\n",
      "|       Oregon|             91110.0|     19974.0|\n",
      "|    Louisiana|             61886.0|     31635.0|\n",
      "|West Virginia|             54771.0|     17436.0|\n",
      "|      Arizona|  46357.425531914894|     14202.0|\n",
      "|        Idaho|             46224.0|     15272.0|\n",
      "|         Ohio|  44029.425531914894|     40598.0|\n",
      "|     Kentucky|             41932.0|     18428.0|\n",
      "|     Illinois|             41695.0|     15699.0|\n",
      "|      Montana|             40145.0|     27915.0|\n",
      "+-------------+--------------------+------------+\n",
      "\n"
     ]
    }
   ],
   "source": [
    "try:\n",
    "    logging.info(\"Top Region On Sales Achieved\")    \n",
    "    # calculate Top regions on Sales\n",
    "    top_regions_df  = sales_team_df.groupBy(\"Region\") \\\n",
    "                    .agg(sum(\"Sales_Achieved\").alias(\"Total_Sales_Achieved\"),first(\"Sales_Target\").alias(\"Sales_Target\"))\n",
    "    \n",
    "    top_regions_df = top_regions_df.orderBy(col(\"Total_Sales_Achieved\").desc()).limit(10)\n",
    "    top_regions_df.show()          \n",
    "except Exception as e:\n",
    "    logging.error(\"invalid operation performed :{e}\", exc_info=True)"
   ]
  },
  {
   "cell_type": "markdown",
   "metadata": {},
   "source": [
    "#### Analyze total_sales by Sales Rep and Category"
   ]
  },
  {
   "cell_type": "code",
   "execution_count": 9,
   "metadata": {},
   "outputs": [
    {
     "name": "stdout",
     "output_type": "stream",
     "text": [
      "+----------------+-----------+-----------------+\n",
      "|            Name|   Category|      Total_Sales|\n",
      "+----------------+-----------+-----------------+\n",
      "|      Erin Ramos|       Home|           3885.0|\n",
      "|      Erin Ramos|Electronics|3813.780163599182|\n",
      "|Brian Wallace Md|     Beauty|3732.780163599182|\n",
      "|     Andrew Rice|Electronics|           3390.0|\n",
      "|      Bobby Long|Electronics|           3179.0|\n",
      "|   Cory Cardenas|       Home|3123.780163599182|\n",
      "|     William Lee|       Home|           2874.0|\n",
      "|    Robert Payne|   Clothing|2779.780163599182|\n",
      "|      Erin Ramos|     Beauty|           2754.0|\n",
      "|     Donna Smith|   Clothing|           2703.0|\n",
      "+----------------+-----------+-----------------+\n",
      "\n"
     ]
    }
   ],
   "source": [
    "try:\n",
    "    logging.info(\"Total sales by Sales Rep and Category\")    \n",
    "    # Join transactions with products to categorize sales by category\n",
    "    transactions_with_category = transactions_df.join(products_df, \"Product_ID\")\n",
    "    # join transaction with category to sales_team_df\n",
    "    transactions_with_category = transactions_with_category.join(sales_team_df,\"Sales_Rep_ID\",\"inner\")\n",
    "    # Calculate total sales by sales rep and category\n",
    "    category_sales_per_rep = transactions_with_category.groupBy(\"Sales_Rep_ID\", \"Category\") \\\n",
    "                                    .agg(first(\"Name\").alias(\"Name\"),\n",
    "                                    sum(\"Amount\").alias(\"Total_Sales\")) \\\n",
    "                                    .orderBy(col(\"Total_Sales\").desc())\n",
    "\n",
    "    category_sales_per_rep = category_sales_per_rep.select(\"Name\",\"Category\",\"Total_Sales\").orderBy(col(\"Total_Sales\").desc()).limit(10)\n",
    "    category_sales_per_rep.show()\n",
    "except Exception as e:\n",
    "    logging.error(\"invalid operation performed :{e}\", exc_info=True)    "
   ]
  },
  {
   "cell_type": "markdown",
   "metadata": {},
   "source": [
    "#### Calculate Sales by sales Rep on year and month"
   ]
  },
  {
   "cell_type": "code",
   "execution_count": 10,
   "metadata": {},
   "outputs": [
    {
     "name": "stdout",
     "output_type": "stream",
     "text": [
      "+-----------------+----+-----+-----------------+\n",
      "|             Name|Year|Month|      Total_Sales|\n",
      "+-----------------+----+-----+-----------------+\n",
      "| Brian Wallace Md|2024|    5|           2616.0|\n",
      "|       Bobby Long|2024|    1|2337.780163599182|\n",
      "|       Erin Ramos|2024|    6|           2170.0|\n",
      "|      Donna Smith|2024|    3|2060.780163599182|\n",
      "|Mitchell Williams|2024|    6|           2014.0|\n",
      "|   Mary Hernandez|2024|    2|           1984.0|\n",
      "|     Amber Lawson|2024|    1|1970.780163599182|\n",
      "|      Andrew Rice|2024|    6|1953.780163599182|\n",
      "|       Erin Ramos|2024|    3|           1950.0|\n",
      "|    Michael Cline|2024|    2|           1917.0|\n",
      "+-----------------+----+-----+-----------------+\n",
      "\n"
     ]
    }
   ],
   "source": [
    "try:\n",
    "    logging.info(\"Sales By Sales Rep on Year and Month\")    \n",
    "    # Extract month from transaction date\n",
    "    transactions_with_category = transactions_with_category.withColumn(\"Month\", month(col(\"Date\")))\n",
    "    transactions_with_category = transactions_with_category.withColumn(\"Year\", year(col(\"Date\")))\n",
    "\n",
    "    # Aggregate sales by month and sales rep\n",
    "    monthly_sales_per_rep = transactions_with_category.groupBy(\"Sales_Rep_ID\", \"Year\", \"Month\") \\\n",
    "                                .agg(first(\"Name\").alias(\"Name\"),\n",
    "                                sum(\"Amount\").alias(\"Total_Sales\"))\n",
    "\n",
    "    monthly_sales_per_rep = monthly_sales_per_rep.select(\"Name\",\"Year\",\"Month\",\"Total_Sales\").orderBy(col(\"Total_Sales\").desc()).limit(10)\n",
    "    monthly_sales_per_rep.show()\n",
    "except Exception as e:\n",
    "    logging.error(\"invalid operation performed :{e}\", exc_info=True)    \n"
   ]
  },
  {
   "cell_type": "code",
   "execution_count": 11,
   "metadata": {},
   "outputs": [
    {
     "name": "stderr",
     "output_type": "stream",
     "text": [
      "ERROR:root:invalid operation performed :{e}\n",
      "Traceback (most recent call last):\n",
      "  File \"/tmp/ipykernel_99335/2926174729.py\", line 2, in <module>\n",
      "    logging.info()\n",
      "TypeError: info() missing 1 required positional argument: 'msg'\n"
     ]
    }
   ],
   "source": [
    "try:\n",
    "    logging.info()    \n",
    "    # Convert to Pandas for visualization\n",
    "    final_performance_pd = final_performance_df.limit(20).toPandas()\n",
    "\n",
    "    # Plot: Target Achieved Percentage\n",
    "    plt.figure(figsize=(10, 6))\n",
    "    plt.barh(final_performance_pd['Name'], final_performance_pd['Target_Achieved_Percentage'], color='skyblue')\n",
    "    plt.xlabel('Target Achieved (%)')\n",
    "    plt.title('Sales Target Achieved by Each Sales Representative')\n",
    "    plt.grid(True)\n",
    "    plt.show()\n",
    "\n",
    "    # Plot: Revenue Percentage of Target\n",
    "    plt.figure(figsize=(10, 6))\n",
    "    plt.barh(final_performance_pd['Name'], final_performance_pd['Revenue_Percentage_Target'], color='orange')\n",
    "    plt.xlabel('Revenue Percentage of Target (%)')\n",
    "    plt.title('Revenue Generated as Percentage of Sales Target')\n",
    "    plt.grid(True)\n",
    "    plt.show()\n",
    "\n",
    "    # Pie Chart: Performance Categories\n",
    "    performance_categories = final_performance_pd['Performance_Category'].value_counts()\n",
    "    plt.figure(figsize=(8, 8))\n",
    "    plt.pie(performance_categories, labels=performance_categories.index, autopct='%1.1f%%', startangle=140, colors=['green', 'yellow', 'red'])\n",
    "    plt.title('Distribution of Sales Performance Categories')\n",
    "    plt.show()\n",
    "except Exception as e:\n",
    "    logging.error(\"invalid operation performed :{e}\", exc_info=True)"
   ]
  }
 ],
 "metadata": {
  "kernelspec": {
   "display_name": "Python 3",
   "language": "python",
   "name": "python3"
  },
  "language_info": {
   "codemirror_mode": {
    "name": "ipython",
    "version": 3
   },
   "file_extension": ".py",
   "mimetype": "text/x-python",
   "name": "python",
   "nbconvert_exporter": "python",
   "pygments_lexer": "ipython3",
   "version": "3.11.9"
  }
 },
 "nbformat": 4,
 "nbformat_minor": 2
}
