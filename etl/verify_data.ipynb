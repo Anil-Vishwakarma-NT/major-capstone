{
 "cells": [
  {
   "cell_type": "code",
   "execution_count": 1,
   "metadata": {},
   "outputs": [],
   "source": [
    "import sys\n",
    "import os\n",
    "sys.path.append(os.path.abspath('..'))\n",
    "import logging"
   ]
  },
  {
   "cell_type": "code",
   "execution_count": 2,
   "metadata": {},
   "outputs": [],
   "source": [
    "# Verifying data accuracy between two dataFrames\n",
    "def verify_data_accuracy(data_dictionary):\n",
    "    try:\n",
    "        logging.info(\"Starting data accuracy verification\")\n",
    "\n",
    "        customer_df = data_dictionary[\"customers\"]\n",
    "        interactions_df = data_dictionary[\"interactions\"]\n",
    "        transactions_df = data_dictionary[\"transactions\"]\n",
    "        product_df = data_dictionary[\"products\"]\n",
    "        sales_team_df = data_dictionary[\"sales_team\"]\n",
    "\n",
    "        # Confirm that Customer_ID in transactions.csv and customers.csv matches correctly.\n",
    "        invalid_customer_record_in_transaction_count = transactions_df.join(customer_df, \"customer_id\", \"left_anti\").count()\n",
    "        logging.info(f\"Invalid customer records in transactions: {invalid_customer_record_in_transaction_count}\")\n",
    "\n",
    "        # Confirm that Customer_ID in interactions.csv and customers.csv matches correctly.\n",
    "        invalid_customer_record_in_interaction_count = interactions_df.join(customer_df, \"customer_id\", \"left_anti\").count()\n",
    "        logging.info(f\"Invalid customer records in interactions: {invalid_customer_record_in_interaction_count}\")\n",
    "\n",
    "        # Check that Product_ID in transactions.csv is valid according to products.csv\n",
    "        invalid_products_record_in_transaction_count = transactions_df.join(product_df, \"product_id\", \"left_anti\").count()\n",
    "        logging.info(f\"Invalid product records in transactions: {invalid_products_record_in_transaction_count}\")\n",
    "\n",
    "        # Ensure that Sales_Rep_ID in transactions.csv matches entries in sales_team.csv.\n",
    "        invalid_sales_rep_in_transactions_count = transactions_df.join(sales_team_df, \"sales_rep_id\", \"left_anti\").count()\n",
    "        logging.info(f\"Invalid sales rep records in transactions: {invalid_sales_rep_in_transactions_count}\")\n",
    "\n",
    "        if (invalid_customer_record_in_transaction_count == 0 and\n",
    "                invalid_customer_record_in_interaction_count == 0 and\n",
    "                invalid_products_record_in_transaction_count == 0 and\n",
    "                invalid_sales_rep_in_transactions_count == 0):\n",
    "            logging.info(\"Data accuracy verified: All records are valid\")\n",
    "            return True\n",
    "        else:\n",
    "            logging.warning(\"Data accuracy verification failed: There are invalid records\")\n",
    "            return False\n",
    "\n",
    "    except Exception as e:\n",
    "        logging.error(f\"Error verifying data accuracy: {e}\", exc_info=True)\n",
    "        return False"
   ]
  }
 ],
 "metadata": {
  "kernelspec": {
   "display_name": "Python 3",
   "language": "python",
   "name": "python3"
  },
  "language_info": {
   "codemirror_mode": {
    "name": "ipython",
    "version": 3
   },
   "file_extension": ".py",
   "mimetype": "text/x-python",
   "name": "python",
   "nbconvert_exporter": "python",
   "pygments_lexer": "ipython3",
   "version": "3.11.9"
  }
 },
 "nbformat": 4,
 "nbformat_minor": 2
}
